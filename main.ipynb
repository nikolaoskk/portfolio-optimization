{
 "cells": [
  {
   "cell_type": "markdown",
   "metadata": {},
   "source": [
    "\n",
    "# ΕΡΓΑΣΙΑ \"ΑΝΑΛΥΣΗ ΚΑΙ ΔΙΑΧΕΙΡΙΣΗ ΧΑΡΤΟΦΥΛΑΚΙΟΥ\"\n",
    "### ΚΟΥΚΟΥΛΑΡΗΣ ΝΙΚΟΛΑΟΣ (7190300) \n",
    "### ΤΜΗΜΑ ΛΟΓΙΣΤΙΚΗΣ ΚΑΙ ΧΡΗΜΑΤΟΟΚΟΝΟΜΙΚΗΣ (ΟΙΚΟΝΟΜΙΚΟ ΠΑΝΕΠΙΣΤΗΜΙΟ ΑΘΗΝΩΝ)"
   ]
  },
  {
   "cell_type": "code",
   "execution_count": 1,
   "metadata": {},
   "outputs": [],
   "source": [
    "import datetime as dt\n",
    "import matplotlib.pyplot as plt\n",
    "from matplotlib import style\n",
    "import pandas as pd\n",
    "import pandas_datareader.data as web\n",
    "from functools import reduce\n",
    "import numpy as np\n",
    "\n",
    "from pypfopt.expected_returns import mean_historical_return\n",
    "from pypfopt.risk_models import CovarianceShrinkage\n",
    "from pypfopt.efficient_frontier import EfficientFrontier\n",
    "from pypfopt.discrete_allocation import DiscreteAllocation, get_latest_prices\n",
    "\n",
    "from pypfopt import HRPOpt\n",
    "\n",
    "from pypfopt.efficient_frontier import EfficientCVaR"
   ]
  },
  {
   "cell_type": "markdown",
   "metadata": {},
   "source": [
    "## Άντληση δεδομένων απο το API του YahooFinance.com\n",
    "Συγκεκτιμένα αντλούμε δεδομένα κλεισίματος (Close) απο την ημερομηνία 1/1/2017 (start) εως αρχες του έτους 2020 (end) και αποθηκεύμε στη μεταβλητή data. Στην συνέχεια ορίζουμε μια συνάρτηση (combine stocks) με απότερο σκοπό να συνδιάσουμε τα χρεόγραφα μας βάση των tickers τους και στο τέλος επιστρέφει το (df merged) όπου κατανέμει τα δεδομένα όπου αντλήσαμε. Τέλος, αποθηκεύουμε σε μια λίστα (stocks) όλα τα σύμβολα (tickers) των μετοχών που θα πραγματοποιήσουμε την ανάλυση. \n",
    "Η λίστα portofolio εκτελεί τη συνάρτιση get_stock η οποία πέρνει ως όρισμα τη λίστα stocks."
   ]
  },
  {
   "cell_type": "code",
   "execution_count": 2,
   "metadata": {},
   "outputs": [
    {
     "name": "stdout",
     "output_type": "stream",
     "text": [
      "                BTC-USD   XRP-USD     ETH-USD        GOOGL          FB  \\\n",
      "Date                                                                     \n",
      "2019-01-01  3843.520020  0.364771  140.819412          NaN         NaN   \n",
      "2019-01-02  3943.409424  0.375243  155.047684  1054.680054  135.679993   \n",
      "2019-01-03  3836.741211  0.360224  149.135010  1025.469971  131.740005   \n",
      "2019-01-04  3857.717529  0.356747  154.581940  1078.069946  137.949997   \n",
      "2019-01-05  3845.194580  0.355275  155.638596          NaN         NaN   \n",
      "\n",
      "                 AAPL        COST        WMT         KR         JPM  \\\n",
      "Date                                                                  \n",
      "2019-01-01        NaN         NaN        NaN        NaN         NaN   \n",
      "2019-01-02  39.480000  204.759995  93.339996  27.299999   99.309998   \n",
      "2019-01-03  35.547501  200.419998  92.860001  27.350000   97.110001   \n",
      "2019-01-04  37.064999  206.240005  93.440002  27.660000  100.690002   \n",
      "2019-01-05        NaN         NaN        NaN        NaN         NaN   \n",
      "\n",
      "                  BAC       HSBC  \n",
      "Date                              \n",
      "2019-01-01        NaN        NaN  \n",
      "2019-01-02  24.959999  40.880001  \n",
      "2019-01-03  24.559999  40.430000  \n",
      "2019-01-04  25.580000  41.610001  \n",
      "2019-01-05        NaN        NaN  \n"
     ]
    }
   ],
   "source": [
    "\n",
    "start = dt.datetime(2019,1,1)\n",
    "end = dt.datetime(2021,1,1)\n",
    "\n",
    "def get_stock(ticker):\n",
    "    data = web.DataReader(ticker,\"yahoo\",start,end)\n",
    "    data[ticker] = data[\"Close\"]\n",
    "    data = data[[ticker]] \n",
    "    # print(data.head())\n",
    "    return data \n",
    "\n",
    "\n",
    "def combine_stocks(tickers):\n",
    "    data_frames = []\n",
    "    for i in tickers:\n",
    "        data_frames.append(get_stock(i))\n",
    "    df_merged = reduce(lambda  left,right: pd.merge(left,right,on=['Date'], how='outer'), data_frames)\n",
    "    print(df_merged.head())\n",
    "    return df_merged\n",
    "\n",
    "\n",
    "stocks = [\"BTC-USD\", \"XRP-USD\", \"ETH-USD\", \"GOOGL\", \n",
    "          \"FB\", \"AAPL\", \"COST\", \"WMT\", \"KR\", \"JPM\", \n",
    "          \"BAC\", \"HSBC\"]\n",
    "portfolio = combine_stocks(stocks)\n",
    "\n",
    "\n",
    "PORTFOLIO_CAPITAL = 100000\n",
    "\n"
   ]
  },
  {
   "cell_type": "markdown",
   "metadata": {},
   "source": [
    "### Αποθηκεύουμε το portfolio σε ενα αρχείο csv ,με μόνη διαφορά οτι θέλουμε να αφαιρέσει τις ημερομηνίες (index) \n",
    "Ο λόγος για τον οποίο αποθήκεύουμε σε csv είναι διότι δεν θέλουμε να ζητάμε τα \n",
    "δεδομένα απο το API του YahooFinance, καθώς αυτό είναι χρονοβόρο "
   ]
  },
  {
   "cell_type": "code",
   "execution_count": 3,
   "metadata": {},
   "outputs": [],
   "source": [
    "portfolio.to_csv(\"portfolio.csv\", index=False)\n"
   ]
  },
  {
   "cell_type": "code",
   "execution_count": 4,
   "metadata": {},
   "outputs": [
    {
     "data": {
      "text/html": [
       "<div>\n",
       "<style scoped>\n",
       "    .dataframe tbody tr th:only-of-type {\n",
       "        vertical-align: middle;\n",
       "    }\n",
       "\n",
       "    .dataframe tbody tr th {\n",
       "        vertical-align: top;\n",
       "    }\n",
       "\n",
       "    .dataframe thead th {\n",
       "        text-align: right;\n",
       "    }\n",
       "</style>\n",
       "<table border=\"1\" class=\"dataframe\">\n",
       "  <thead>\n",
       "    <tr style=\"text-align: right;\">\n",
       "      <th></th>\n",
       "      <th>BTC-USD</th>\n",
       "      <th>XRP-USD</th>\n",
       "      <th>ETH-USD</th>\n",
       "      <th>GOOGL</th>\n",
       "      <th>FB</th>\n",
       "      <th>AAPL</th>\n",
       "      <th>COST</th>\n",
       "      <th>WMT</th>\n",
       "      <th>KR</th>\n",
       "      <th>JPM</th>\n",
       "      <th>BAC</th>\n",
       "      <th>HSBC</th>\n",
       "    </tr>\n",
       "  </thead>\n",
       "  <tbody>\n",
       "    <tr>\n",
       "      <th>0</th>\n",
       "      <td>3843.520020</td>\n",
       "      <td>0.364771</td>\n",
       "      <td>140.819412</td>\n",
       "      <td>NaN</td>\n",
       "      <td>NaN</td>\n",
       "      <td>NaN</td>\n",
       "      <td>NaN</td>\n",
       "      <td>NaN</td>\n",
       "      <td>NaN</td>\n",
       "      <td>NaN</td>\n",
       "      <td>NaN</td>\n",
       "      <td>NaN</td>\n",
       "    </tr>\n",
       "    <tr>\n",
       "      <th>1</th>\n",
       "      <td>3943.409424</td>\n",
       "      <td>0.375243</td>\n",
       "      <td>155.047684</td>\n",
       "      <td>1054.680054</td>\n",
       "      <td>135.679993</td>\n",
       "      <td>39.480000</td>\n",
       "      <td>204.759995</td>\n",
       "      <td>93.339996</td>\n",
       "      <td>27.299999</td>\n",
       "      <td>99.309998</td>\n",
       "      <td>24.959999</td>\n",
       "      <td>40.880001</td>\n",
       "    </tr>\n",
       "    <tr>\n",
       "      <th>2</th>\n",
       "      <td>3836.741211</td>\n",
       "      <td>0.360224</td>\n",
       "      <td>149.135010</td>\n",
       "      <td>1025.469971</td>\n",
       "      <td>131.740005</td>\n",
       "      <td>35.547501</td>\n",
       "      <td>200.419998</td>\n",
       "      <td>92.860001</td>\n",
       "      <td>27.350000</td>\n",
       "      <td>97.110001</td>\n",
       "      <td>24.559999</td>\n",
       "      <td>40.430000</td>\n",
       "    </tr>\n",
       "    <tr>\n",
       "      <th>3</th>\n",
       "      <td>3857.717529</td>\n",
       "      <td>0.356747</td>\n",
       "      <td>154.581940</td>\n",
       "      <td>1078.069946</td>\n",
       "      <td>137.949997</td>\n",
       "      <td>37.064999</td>\n",
       "      <td>206.240005</td>\n",
       "      <td>93.440002</td>\n",
       "      <td>27.660000</td>\n",
       "      <td>100.690002</td>\n",
       "      <td>25.580000</td>\n",
       "      <td>41.610001</td>\n",
       "    </tr>\n",
       "    <tr>\n",
       "      <th>4</th>\n",
       "      <td>3845.194580</td>\n",
       "      <td>0.355275</td>\n",
       "      <td>155.638596</td>\n",
       "      <td>NaN</td>\n",
       "      <td>NaN</td>\n",
       "      <td>NaN</td>\n",
       "      <td>NaN</td>\n",
       "      <td>NaN</td>\n",
       "      <td>NaN</td>\n",
       "      <td>NaN</td>\n",
       "      <td>NaN</td>\n",
       "      <td>NaN</td>\n",
       "    </tr>\n",
       "    <tr>\n",
       "      <th>...</th>\n",
       "      <td>...</td>\n",
       "      <td>...</td>\n",
       "      <td>...</td>\n",
       "      <td>...</td>\n",
       "      <td>...</td>\n",
       "      <td>...</td>\n",
       "      <td>...</td>\n",
       "      <td>...</td>\n",
       "      <td>...</td>\n",
       "      <td>...</td>\n",
       "      <td>...</td>\n",
       "      <td>...</td>\n",
       "    </tr>\n",
       "    <tr>\n",
       "      <th>728</th>\n",
       "      <td>27362.437500</td>\n",
       "      <td>0.220962</td>\n",
       "      <td>731.520142</td>\n",
       "      <td>1757.760010</td>\n",
       "      <td>276.779999</td>\n",
       "      <td>134.869995</td>\n",
       "      <td>372.720001</td>\n",
       "      <td>144.300003</td>\n",
       "      <td>31.459999</td>\n",
       "      <td>125.010002</td>\n",
       "      <td>30.010000</td>\n",
       "      <td>25.820000</td>\n",
       "    </tr>\n",
       "    <tr>\n",
       "      <th>729</th>\n",
       "      <td>28840.953125</td>\n",
       "      <td>0.211828</td>\n",
       "      <td>751.618958</td>\n",
       "      <td>1736.250000</td>\n",
       "      <td>271.869995</td>\n",
       "      <td>133.720001</td>\n",
       "      <td>374.450012</td>\n",
       "      <td>144.179993</td>\n",
       "      <td>31.549999</td>\n",
       "      <td>125.360001</td>\n",
       "      <td>29.980000</td>\n",
       "      <td>25.940001</td>\n",
       "    </tr>\n",
       "    <tr>\n",
       "      <th>730</th>\n",
       "      <td>29001.720703</td>\n",
       "      <td>0.219846</td>\n",
       "      <td>737.803406</td>\n",
       "      <td>1752.640015</td>\n",
       "      <td>273.160004</td>\n",
       "      <td>132.690002</td>\n",
       "      <td>376.779999</td>\n",
       "      <td>144.149994</td>\n",
       "      <td>31.760000</td>\n",
       "      <td>127.070000</td>\n",
       "      <td>30.309999</td>\n",
       "      <td>25.910000</td>\n",
       "    </tr>\n",
       "    <tr>\n",
       "      <th>731</th>\n",
       "      <td>29374.152344</td>\n",
       "      <td>0.237444</td>\n",
       "      <td>730.367554</td>\n",
       "      <td>NaN</td>\n",
       "      <td>NaN</td>\n",
       "      <td>NaN</td>\n",
       "      <td>NaN</td>\n",
       "      <td>NaN</td>\n",
       "      <td>NaN</td>\n",
       "      <td>NaN</td>\n",
       "      <td>NaN</td>\n",
       "      <td>NaN</td>\n",
       "    </tr>\n",
       "    <tr>\n",
       "      <th>732</th>\n",
       "      <td>32127.267578</td>\n",
       "      <td>0.221655</td>\n",
       "      <td>774.534973</td>\n",
       "      <td>NaN</td>\n",
       "      <td>NaN</td>\n",
       "      <td>NaN</td>\n",
       "      <td>NaN</td>\n",
       "      <td>NaN</td>\n",
       "      <td>NaN</td>\n",
       "      <td>NaN</td>\n",
       "      <td>NaN</td>\n",
       "      <td>NaN</td>\n",
       "    </tr>\n",
       "  </tbody>\n",
       "</table>\n",
       "<p>733 rows × 12 columns</p>\n",
       "</div>"
      ],
      "text/plain": [
       "          BTC-USD   XRP-USD     ETH-USD        GOOGL          FB        AAPL  \\\n",
       "0     3843.520020  0.364771  140.819412          NaN         NaN         NaN   \n",
       "1     3943.409424  0.375243  155.047684  1054.680054  135.679993   39.480000   \n",
       "2     3836.741211  0.360224  149.135010  1025.469971  131.740005   35.547501   \n",
       "3     3857.717529  0.356747  154.581940  1078.069946  137.949997   37.064999   \n",
       "4     3845.194580  0.355275  155.638596          NaN         NaN         NaN   \n",
       "..            ...       ...         ...          ...         ...         ...   \n",
       "728  27362.437500  0.220962  731.520142  1757.760010  276.779999  134.869995   \n",
       "729  28840.953125  0.211828  751.618958  1736.250000  271.869995  133.720001   \n",
       "730  29001.720703  0.219846  737.803406  1752.640015  273.160004  132.690002   \n",
       "731  29374.152344  0.237444  730.367554          NaN         NaN         NaN   \n",
       "732  32127.267578  0.221655  774.534973          NaN         NaN         NaN   \n",
       "\n",
       "           COST         WMT         KR         JPM        BAC       HSBC  \n",
       "0           NaN         NaN        NaN         NaN        NaN        NaN  \n",
       "1    204.759995   93.339996  27.299999   99.309998  24.959999  40.880001  \n",
       "2    200.419998   92.860001  27.350000   97.110001  24.559999  40.430000  \n",
       "3    206.240005   93.440002  27.660000  100.690002  25.580000  41.610001  \n",
       "4           NaN         NaN        NaN         NaN        NaN        NaN  \n",
       "..          ...         ...        ...         ...        ...        ...  \n",
       "728  372.720001  144.300003  31.459999  125.010002  30.010000  25.820000  \n",
       "729  374.450012  144.179993  31.549999  125.360001  29.980000  25.940001  \n",
       "730  376.779999  144.149994  31.760000  127.070000  30.309999  25.910000  \n",
       "731         NaN         NaN        NaN         NaN        NaN        NaN  \n",
       "732         NaN         NaN        NaN         NaN        NaN        NaN  \n",
       "\n",
       "[733 rows x 12 columns]"
      ]
     },
     "execution_count": 4,
     "metadata": {},
     "output_type": "execute_result"
    }
   ],
   "source": [
    "portfolio = pd.read_csv(\"portfolio.csv\")\n",
    "portfolio"
   ]
  },
  {
   "cell_type": "markdown",
   "metadata": {},
   "source": [
    "## 1. Mean Variance optimization\n",
    "H πρώτη μέθοδος που θα προσεγκίσουμε είναι μέθοδος \"Βελτιστοποίησης Μέσου-Διακύμανσης\" που χρησιμοποιούμε το υπόδειγμα του Harry Markowitz για την οποία θα χρειαστόυμε να υπολογίσουμε το ιστορικό μέσο (mean) των αποδόσεων των μετοχών που απαρτίζεται το χαρτοφυλάκιο και την συνδιακύμανση αυτών (covariance matrix) αποθηκεύοντας τα στα data frames mu και S αντίστοιχα."
   ]
  },
  {
   "cell_type": "code",
   "execution_count": 5,
   "metadata": {},
   "outputs": [
    {
     "data": {
      "text/html": [
       "<div>\n",
       "<style scoped>\n",
       "    .dataframe tbody tr th:only-of-type {\n",
       "        vertical-align: middle;\n",
       "    }\n",
       "\n",
       "    .dataframe tbody tr th {\n",
       "        vertical-align: top;\n",
       "    }\n",
       "\n",
       "    .dataframe thead th {\n",
       "        text-align: right;\n",
       "    }\n",
       "</style>\n",
       "<table border=\"1\" class=\"dataframe\">\n",
       "  <thead>\n",
       "    <tr style=\"text-align: right;\">\n",
       "      <th></th>\n",
       "      <th>BTC-USD</th>\n",
       "      <th>XRP-USD</th>\n",
       "      <th>ETH-USD</th>\n",
       "      <th>GOOGL</th>\n",
       "      <th>FB</th>\n",
       "      <th>AAPL</th>\n",
       "      <th>COST</th>\n",
       "      <th>WMT</th>\n",
       "      <th>KR</th>\n",
       "      <th>JPM</th>\n",
       "      <th>BAC</th>\n",
       "      <th>HSBC</th>\n",
       "    </tr>\n",
       "  </thead>\n",
       "  <tbody>\n",
       "    <tr>\n",
       "      <th>BTC-USD</th>\n",
       "      <td>0.333888</td>\n",
       "      <td>0.259673</td>\n",
       "      <td>0.333874</td>\n",
       "      <td>0.031174</td>\n",
       "      <td>0.040590</td>\n",
       "      <td>0.036733</td>\n",
       "      <td>0.018380</td>\n",
       "      <td>0.019927</td>\n",
       "      <td>0.007393</td>\n",
       "      <td>0.029516</td>\n",
       "      <td>0.033790</td>\n",
       "      <td>0.020608</td>\n",
       "    </tr>\n",
       "    <tr>\n",
       "      <th>XRP-USD</th>\n",
       "      <td>0.259673</td>\n",
       "      <td>0.612987</td>\n",
       "      <td>0.384048</td>\n",
       "      <td>0.031472</td>\n",
       "      <td>0.040483</td>\n",
       "      <td>0.040561</td>\n",
       "      <td>0.022041</td>\n",
       "      <td>0.024440</td>\n",
       "      <td>0.011304</td>\n",
       "      <td>0.035867</td>\n",
       "      <td>0.042398</td>\n",
       "      <td>0.020878</td>\n",
       "    </tr>\n",
       "    <tr>\n",
       "      <th>ETH-USD</th>\n",
       "      <td>0.333874</td>\n",
       "      <td>0.384048</td>\n",
       "      <td>0.505920</td>\n",
       "      <td>0.044432</td>\n",
       "      <td>0.049298</td>\n",
       "      <td>0.052252</td>\n",
       "      <td>0.027771</td>\n",
       "      <td>0.033548</td>\n",
       "      <td>0.011509</td>\n",
       "      <td>0.038992</td>\n",
       "      <td>0.045499</td>\n",
       "      <td>0.023085</td>\n",
       "    </tr>\n",
       "    <tr>\n",
       "      <th>GOOGL</th>\n",
       "      <td>0.031174</td>\n",
       "      <td>0.031472</td>\n",
       "      <td>0.044432</td>\n",
       "      <td>0.075238</td>\n",
       "      <td>0.058865</td>\n",
       "      <td>0.055951</td>\n",
       "      <td>0.027675</td>\n",
       "      <td>0.021889</td>\n",
       "      <td>0.011851</td>\n",
       "      <td>0.047154</td>\n",
       "      <td>0.052293</td>\n",
       "      <td>0.030129</td>\n",
       "    </tr>\n",
       "    <tr>\n",
       "      <th>FB</th>\n",
       "      <td>0.040590</td>\n",
       "      <td>0.040483</td>\n",
       "      <td>0.049298</td>\n",
       "      <td>0.058865</td>\n",
       "      <td>0.102691</td>\n",
       "      <td>0.065660</td>\n",
       "      <td>0.028546</td>\n",
       "      <td>0.021149</td>\n",
       "      <td>0.012619</td>\n",
       "      <td>0.043871</td>\n",
       "      <td>0.049441</td>\n",
       "      <td>0.026515</td>\n",
       "    </tr>\n",
       "    <tr>\n",
       "      <th>AAPL</th>\n",
       "      <td>0.036733</td>\n",
       "      <td>0.040561</td>\n",
       "      <td>0.052252</td>\n",
       "      <td>0.055951</td>\n",
       "      <td>0.065660</td>\n",
       "      <td>0.102591</td>\n",
       "      <td>0.035295</td>\n",
       "      <td>0.028121</td>\n",
       "      <td>0.015580</td>\n",
       "      <td>0.052354</td>\n",
       "      <td>0.059149</td>\n",
       "      <td>0.032883</td>\n",
       "    </tr>\n",
       "    <tr>\n",
       "      <th>COST</th>\n",
       "      <td>0.018380</td>\n",
       "      <td>0.022041</td>\n",
       "      <td>0.027771</td>\n",
       "      <td>0.027675</td>\n",
       "      <td>0.028546</td>\n",
       "      <td>0.035295</td>\n",
       "      <td>0.044574</td>\n",
       "      <td>0.026767</td>\n",
       "      <td>0.018148</td>\n",
       "      <td>0.024170</td>\n",
       "      <td>0.026830</td>\n",
       "      <td>0.014253</td>\n",
       "    </tr>\n",
       "    <tr>\n",
       "      <th>WMT</th>\n",
       "      <td>0.019927</td>\n",
       "      <td>0.024440</td>\n",
       "      <td>0.033548</td>\n",
       "      <td>0.021889</td>\n",
       "      <td>0.021149</td>\n",
       "      <td>0.028121</td>\n",
       "      <td>0.026767</td>\n",
       "      <td>0.047671</td>\n",
       "      <td>0.021198</td>\n",
       "      <td>0.021229</td>\n",
       "      <td>0.024126</td>\n",
       "      <td>0.011157</td>\n",
       "    </tr>\n",
       "    <tr>\n",
       "      <th>KR</th>\n",
       "      <td>0.007393</td>\n",
       "      <td>0.011304</td>\n",
       "      <td>0.011509</td>\n",
       "      <td>0.011851</td>\n",
       "      <td>0.012619</td>\n",
       "      <td>0.015580</td>\n",
       "      <td>0.018148</td>\n",
       "      <td>0.021198</td>\n",
       "      <td>0.068398</td>\n",
       "      <td>0.009055</td>\n",
       "      <td>0.013411</td>\n",
       "      <td>0.004336</td>\n",
       "    </tr>\n",
       "    <tr>\n",
       "      <th>JPM</th>\n",
       "      <td>0.029516</td>\n",
       "      <td>0.035867</td>\n",
       "      <td>0.038992</td>\n",
       "      <td>0.047154</td>\n",
       "      <td>0.043871</td>\n",
       "      <td>0.052354</td>\n",
       "      <td>0.024170</td>\n",
       "      <td>0.021229</td>\n",
       "      <td>0.009055</td>\n",
       "      <td>0.117175</td>\n",
       "      <td>0.112379</td>\n",
       "      <td>0.058410</td>\n",
       "    </tr>\n",
       "    <tr>\n",
       "      <th>BAC</th>\n",
       "      <td>0.033790</td>\n",
       "      <td>0.042398</td>\n",
       "      <td>0.045499</td>\n",
       "      <td>0.052293</td>\n",
       "      <td>0.049441</td>\n",
       "      <td>0.059149</td>\n",
       "      <td>0.026830</td>\n",
       "      <td>0.024126</td>\n",
       "      <td>0.013411</td>\n",
       "      <td>0.112379</td>\n",
       "      <td>0.138843</td>\n",
       "      <td>0.063979</td>\n",
       "    </tr>\n",
       "    <tr>\n",
       "      <th>HSBC</th>\n",
       "      <td>0.020608</td>\n",
       "      <td>0.020878</td>\n",
       "      <td>0.023085</td>\n",
       "      <td>0.030129</td>\n",
       "      <td>0.026515</td>\n",
       "      <td>0.032883</td>\n",
       "      <td>0.014253</td>\n",
       "      <td>0.011157</td>\n",
       "      <td>0.004336</td>\n",
       "      <td>0.058410</td>\n",
       "      <td>0.063979</td>\n",
       "      <td>0.072720</td>\n",
       "    </tr>\n",
       "  </tbody>\n",
       "</table>\n",
       "</div>"
      ],
      "text/plain": [
       "          BTC-USD   XRP-USD   ETH-USD     GOOGL        FB      AAPL      COST  \\\n",
       "BTC-USD  0.333888  0.259673  0.333874  0.031174  0.040590  0.036733  0.018380   \n",
       "XRP-USD  0.259673  0.612987  0.384048  0.031472  0.040483  0.040561  0.022041   \n",
       "ETH-USD  0.333874  0.384048  0.505920  0.044432  0.049298  0.052252  0.027771   \n",
       "GOOGL    0.031174  0.031472  0.044432  0.075238  0.058865  0.055951  0.027675   \n",
       "FB       0.040590  0.040483  0.049298  0.058865  0.102691  0.065660  0.028546   \n",
       "AAPL     0.036733  0.040561  0.052252  0.055951  0.065660  0.102591  0.035295   \n",
       "COST     0.018380  0.022041  0.027771  0.027675  0.028546  0.035295  0.044574   \n",
       "WMT      0.019927  0.024440  0.033548  0.021889  0.021149  0.028121  0.026767   \n",
       "KR       0.007393  0.011304  0.011509  0.011851  0.012619  0.015580  0.018148   \n",
       "JPM      0.029516  0.035867  0.038992  0.047154  0.043871  0.052354  0.024170   \n",
       "BAC      0.033790  0.042398  0.045499  0.052293  0.049441  0.059149  0.026830   \n",
       "HSBC     0.020608  0.020878  0.023085  0.030129  0.026515  0.032883  0.014253   \n",
       "\n",
       "              WMT        KR       JPM       BAC      HSBC  \n",
       "BTC-USD  0.019927  0.007393  0.029516  0.033790  0.020608  \n",
       "XRP-USD  0.024440  0.011304  0.035867  0.042398  0.020878  \n",
       "ETH-USD  0.033548  0.011509  0.038992  0.045499  0.023085  \n",
       "GOOGL    0.021889  0.011851  0.047154  0.052293  0.030129  \n",
       "FB       0.021149  0.012619  0.043871  0.049441  0.026515  \n",
       "AAPL     0.028121  0.015580  0.052354  0.059149  0.032883  \n",
       "COST     0.026767  0.018148  0.024170  0.026830  0.014253  \n",
       "WMT      0.047671  0.021198  0.021229  0.024126  0.011157  \n",
       "KR       0.021198  0.068398  0.009055  0.013411  0.004336  \n",
       "JPM      0.021229  0.009055  0.117175  0.112379  0.058410  \n",
       "BAC      0.024126  0.013411  0.112379  0.138843  0.063979  \n",
       "HSBC     0.011157  0.004336  0.058410  0.063979  0.072720  "
      ]
     },
     "execution_count": 5,
     "metadata": {},
     "output_type": "execute_result"
    }
   ],
   "source": [
    "mu = mean_historical_return(portfolio)\n",
    "S = CovarianceShrinkage(portfolio).ledoit_wolf()\n",
    "S"
   ]
  },
  {
   "cell_type": "code",
   "execution_count": 6,
   "metadata": {},
   "outputs": [
    {
     "data": {
      "text/plain": [
       "BTC-USD    1.077111\n",
       "XRP-USD   -0.157594\n",
       "ETH-USD    0.798392\n",
       "GOOGL      0.191348\n",
       "FB         0.272814\n",
       "AAPL       0.518758\n",
       "COST       0.233957\n",
       "WMT        0.161629\n",
       "KR         0.053550\n",
       "JPM        0.088689\n",
       "BAC        0.069240\n",
       "HSBC      -0.145469\n",
       "dtype: float64"
      ]
     },
     "execution_count": 6,
     "metadata": {},
     "output_type": "execute_result"
    }
   ],
   "source": [
    "mu"
   ]
  },
  {
   "cell_type": "markdown",
   "metadata": {},
   "source": [
    "## 1.1 Αποτελεσματικό Σύνορο και Ποσοστά επένδυσης σε κάθε χρεόγραφο (W1-Wn)\n",
    "Με την χρήση της συνάρτησης EfficientFrontier που πέρνει ως όρισμα τα mu και S (τα οποία υπολογίσαμε νωρίτερα ) μας δίνεται η δυνατότητα να υπολογίσουμε το αποτελεσματικό σύνορο χαρτοφυλακίων και στη συνέχεια τα w (weights) ,δηλαδή το ποσοστό (%) των διαθέσιμων κερφαλαίων που πρέπει να επενδύσουμε στην κάθε μετοχή κεχωριστά για να αποκαλείται Αποτελεσματικό Χαρτοφυλλάκιο. Στη συνέχεια εκτυπώνουμε τα αποτελέσματ των συναρτήσεων."
   ]
  },
  {
   "cell_type": "code",
   "execution_count": 7,
   "metadata": {},
   "outputs": [
    {
     "name": "stdout",
     "output_type": "stream",
     "text": [
      "{'BTC-USD': 0.38098, 'XRP-USD': 0.0, 'ETH-USD': 0.0, 'GOOGL': 0.0, 'FB': 0.0, 'AAPL': 0.5038, 'COST': 0.11522, 'WMT': 0.0, 'KR': 0.0, 'JPM': 0.0, 'BAC': 0.0, 'HSBC': 0.0}\n"
     ]
    },
    {
     "data": {
      "text/plain": [
       "<pypfopt.efficient_frontier.efficient_frontier.EfficientFrontier at 0x1e60856f7c0>"
      ]
     },
     "execution_count": 7,
     "metadata": {},
     "output_type": "execute_result"
    }
   ],
   "source": [
    "ef = EfficientFrontier(mu, S)\n",
    "weights = ef.max_sharpe()\n",
    "\n",
    "cleaned_weights_mvo = ef.clean_weights()\n",
    "print(dict(cleaned_weights_mvo))\n",
    "ef"
   ]
  },
  {
   "cell_type": "markdown",
   "metadata": {},
   "source": [
    "## 1.2 Απόδοση Χαρτοφυλλακίου (Performance)\n",
    "Αποθηκεύουμε στη \"mvo_exp_annual_ret\" τις αναμενόμενες ετήσιες επιστροφές για κάθε επενδυτή με αυτό το χαρτοφυλάκιο, ομοίως στη \"mvo_annual_volatility\" τη ετήσια μεταβλητότητα - όγκο των μετοχών που περιέχει το χαρτοφυλάκιο μας και τέλος για την ευρεση του Sharpe Ratio αλλα και τον υπολογισμό του ,το αποθηκεύουμε στο \"mvo_sharpe_r\".Εκτελόντας αυτή τη γραμμή κώδικα θα μας επιστρέψει τα αποτελέσματα που ζητήσαμε."
   ]
  },
  {
   "cell_type": "code",
   "execution_count": 8,
   "metadata": {},
   "outputs": [
    {
     "name": "stdout",
     "output_type": "stream",
     "text": [
      "Expected annual return: 69.9%\n",
      "Annual volatility: 30.8%\n",
      "Sharpe Ratio: 2.20\n"
     ]
    }
   ],
   "source": [
    "mvo_exp_annual_ret, mvo_annual_volatility , mvo_sharpe_r = ef.portfolio_performance(verbose=True)"
   ]
  },
  {
   "cell_type": "markdown",
   "metadata": {},
   "source": [
    "## 1.3 Add Funds (How many stocks (n) according to the Funds)\n",
    "Αφού πριν βρήκαμε τα ποσoτά των κεφαλαίων του κατόχου χαρτοφυλακίου που πρέπει να επενδυθούν (w), τώρα μπρορούμε να βρούμε τα χρήματα (σε δολάρια) που πρέπει να επενδύσουμε με γνώμονα οτι ο επενδυτής έχει στη διακριτική του ευκαίρια το ποσό των 100.000$. Για να πραγματοποιηθεί αυτό φτιάχνουμε μια μεταβλητή allocation που στη συνέχεια την εκτυπώνουμε  ,δηλαδή διανομή των χρημάτων ως που να είναι αποτελεσματική και κερδοφόρα η τοποθετησή τους σε ενα αξιόγραφο του χαρτοφυλακίου και στο τέλος εκτυπώνει τα υπολοιπόμενα λεφτά του επενδυτή που παρέμηναν εκτός λόγω του οτι δεν απαιτούνται για τη δημιουργία αποτελεσματικού χαρτοφυλακίου."
   ]
  },
  {
   "cell_type": "code",
   "execution_count": 9,
   "metadata": {},
   "outputs": [
    {
     "name": "stdout",
     "output_type": "stream",
     "text": [
      "Discrete allocation: {'AAPL': 379, 'BTC-USD': 1, 'COST': 30}\n",
      "Funds remaining: $6279.82\n"
     ]
    }
   ],
   "source": [
    "latest_prices = get_latest_prices(portfolio)\n",
    "\n",
    "da = DiscreteAllocation(weights, latest_prices, total_portfolio_value=PORTFOLIO_CAPITAL)\n",
    "\n",
    "allocation, leftover = da.greedy_portfolio()\n",
    "print(\"Discrete allocation:\", allocation)\n",
    "print(\"Funds remaining: ${:.2f}\".format(leftover))"
   ]
  },
  {
   "cell_type": "markdown",
   "metadata": {},
   "source": [
    "## 2. Hierarchical Risk Parity\n",
    "Στη δεύτερη μέθοδο όπου θα κάνουμε ανάλυση δε απαιτείται ο υπολογισμός του πίνακα συνδιακίμανσης όπως κάναμε στη πρώτη μέθοδο. Για αρχή θα εκτυπώσουμε τις αποδόσεις των χρεογράφων του χαρτοφυλλακίου με τις οποίες θα ασχοληθούμε στη συνέχεια."
   ]
  },
  {
   "cell_type": "code",
   "execution_count": 10,
   "metadata": {},
   "outputs": [
    {
     "data": {
      "text/html": [
       "<div>\n",
       "<style scoped>\n",
       "    .dataframe tbody tr th:only-of-type {\n",
       "        vertical-align: middle;\n",
       "    }\n",
       "\n",
       "    .dataframe tbody tr th {\n",
       "        vertical-align: top;\n",
       "    }\n",
       "\n",
       "    .dataframe thead th {\n",
       "        text-align: right;\n",
       "    }\n",
       "</style>\n",
       "<table border=\"1\" class=\"dataframe\">\n",
       "  <thead>\n",
       "    <tr style=\"text-align: right;\">\n",
       "      <th></th>\n",
       "      <th>BTC-USD</th>\n",
       "      <th>XRP-USD</th>\n",
       "      <th>ETH-USD</th>\n",
       "      <th>GOOGL</th>\n",
       "      <th>FB</th>\n",
       "      <th>AAPL</th>\n",
       "      <th>COST</th>\n",
       "      <th>WMT</th>\n",
       "      <th>KR</th>\n",
       "      <th>JPM</th>\n",
       "      <th>BAC</th>\n",
       "      <th>HSBC</th>\n",
       "    </tr>\n",
       "  </thead>\n",
       "  <tbody>\n",
       "    <tr>\n",
       "      <th>2</th>\n",
       "      <td>-0.027050</td>\n",
       "      <td>-0.040025</td>\n",
       "      <td>-0.038135</td>\n",
       "      <td>-0.027696</td>\n",
       "      <td>-0.029039</td>\n",
       "      <td>-0.099607</td>\n",
       "      <td>-0.021196</td>\n",
       "      <td>-0.005142</td>\n",
       "      <td>0.001832</td>\n",
       "      <td>-0.022153</td>\n",
       "      <td>-0.016026</td>\n",
       "      <td>-0.011008</td>\n",
       "    </tr>\n",
       "    <tr>\n",
       "      <th>3</th>\n",
       "      <td>0.005467</td>\n",
       "      <td>-0.009652</td>\n",
       "      <td>0.036523</td>\n",
       "      <td>0.051294</td>\n",
       "      <td>0.047138</td>\n",
       "      <td>0.042689</td>\n",
       "      <td>0.029039</td>\n",
       "      <td>0.006246</td>\n",
       "      <td>0.011335</td>\n",
       "      <td>0.036865</td>\n",
       "      <td>0.041531</td>\n",
       "      <td>0.029186</td>\n",
       "    </tr>\n",
       "    <tr>\n",
       "      <th>4</th>\n",
       "      <td>-0.003246</td>\n",
       "      <td>-0.004126</td>\n",
       "      <td>0.006836</td>\n",
       "      <td>0.000000</td>\n",
       "      <td>0.000000</td>\n",
       "      <td>0.000000</td>\n",
       "      <td>0.000000</td>\n",
       "      <td>0.000000</td>\n",
       "      <td>0.000000</td>\n",
       "      <td>0.000000</td>\n",
       "      <td>0.000000</td>\n",
       "      <td>0.000000</td>\n",
       "    </tr>\n",
       "    <tr>\n",
       "      <th>5</th>\n",
       "      <td>0.060189</td>\n",
       "      <td>0.036929</td>\n",
       "      <td>0.013542</td>\n",
       "      <td>0.000000</td>\n",
       "      <td>0.000000</td>\n",
       "      <td>0.000000</td>\n",
       "      <td>0.000000</td>\n",
       "      <td>0.000000</td>\n",
       "      <td>0.000000</td>\n",
       "      <td>0.000000</td>\n",
       "      <td>0.000000</td>\n",
       "      <td>0.000000</td>\n",
       "    </tr>\n",
       "    <tr>\n",
       "      <th>6</th>\n",
       "      <td>-0.012605</td>\n",
       "      <td>-0.010988</td>\n",
       "      <td>-0.038334</td>\n",
       "      <td>-0.001994</td>\n",
       "      <td>0.000725</td>\n",
       "      <td>-0.002226</td>\n",
       "      <td>0.003685</td>\n",
       "      <td>0.011772</td>\n",
       "      <td>0.009400</td>\n",
       "      <td>0.000695</td>\n",
       "      <td>-0.000782</td>\n",
       "      <td>-0.013458</td>\n",
       "    </tr>\n",
       "    <tr>\n",
       "      <th>...</th>\n",
       "      <td>...</td>\n",
       "      <td>...</td>\n",
       "      <td>...</td>\n",
       "      <td>...</td>\n",
       "      <td>...</td>\n",
       "      <td>...</td>\n",
       "      <td>...</td>\n",
       "      <td>...</td>\n",
       "      <td>...</td>\n",
       "      <td>...</td>\n",
       "      <td>...</td>\n",
       "      <td>...</td>\n",
       "    </tr>\n",
       "    <tr>\n",
       "      <th>728</th>\n",
       "      <td>0.010250</td>\n",
       "      <td>-0.108873</td>\n",
       "      <td>0.001537</td>\n",
       "      <td>-0.009132</td>\n",
       "      <td>-0.000794</td>\n",
       "      <td>-0.013315</td>\n",
       "      <td>0.004474</td>\n",
       "      <td>-0.006335</td>\n",
       "      <td>0.002230</td>\n",
       "      <td>-0.002633</td>\n",
       "      <td>-0.003983</td>\n",
       "      <td>-0.001161</td>\n",
       "    </tr>\n",
       "    <tr>\n",
       "      <th>729</th>\n",
       "      <td>0.054034</td>\n",
       "      <td>-0.041337</td>\n",
       "      <td>0.027475</td>\n",
       "      <td>-0.012237</td>\n",
       "      <td>-0.017740</td>\n",
       "      <td>-0.008527</td>\n",
       "      <td>0.004642</td>\n",
       "      <td>-0.000832</td>\n",
       "      <td>0.002861</td>\n",
       "      <td>0.002800</td>\n",
       "      <td>-0.001000</td>\n",
       "      <td>0.004648</td>\n",
       "    </tr>\n",
       "    <tr>\n",
       "      <th>730</th>\n",
       "      <td>0.005574</td>\n",
       "      <td>0.037851</td>\n",
       "      <td>-0.018381</td>\n",
       "      <td>0.009440</td>\n",
       "      <td>0.004745</td>\n",
       "      <td>-0.007703</td>\n",
       "      <td>0.006222</td>\n",
       "      <td>-0.000208</td>\n",
       "      <td>0.006656</td>\n",
       "      <td>0.013641</td>\n",
       "      <td>0.011007</td>\n",
       "      <td>-0.001157</td>\n",
       "    </tr>\n",
       "    <tr>\n",
       "      <th>731</th>\n",
       "      <td>0.012842</td>\n",
       "      <td>0.080047</td>\n",
       "      <td>-0.010078</td>\n",
       "      <td>0.000000</td>\n",
       "      <td>0.000000</td>\n",
       "      <td>0.000000</td>\n",
       "      <td>0.000000</td>\n",
       "      <td>0.000000</td>\n",
       "      <td>0.000000</td>\n",
       "      <td>0.000000</td>\n",
       "      <td>0.000000</td>\n",
       "      <td>0.000000</td>\n",
       "    </tr>\n",
       "    <tr>\n",
       "      <th>732</th>\n",
       "      <td>0.093726</td>\n",
       "      <td>-0.066496</td>\n",
       "      <td>0.060473</td>\n",
       "      <td>0.000000</td>\n",
       "      <td>0.000000</td>\n",
       "      <td>0.000000</td>\n",
       "      <td>0.000000</td>\n",
       "      <td>0.000000</td>\n",
       "      <td>0.000000</td>\n",
       "      <td>0.000000</td>\n",
       "      <td>0.000000</td>\n",
       "      <td>0.000000</td>\n",
       "    </tr>\n",
       "  </tbody>\n",
       "</table>\n",
       "<p>731 rows × 12 columns</p>\n",
       "</div>"
      ],
      "text/plain": [
       "      BTC-USD   XRP-USD   ETH-USD     GOOGL        FB      AAPL      COST  \\\n",
       "2   -0.027050 -0.040025 -0.038135 -0.027696 -0.029039 -0.099607 -0.021196   \n",
       "3    0.005467 -0.009652  0.036523  0.051294  0.047138  0.042689  0.029039   \n",
       "4   -0.003246 -0.004126  0.006836  0.000000  0.000000  0.000000  0.000000   \n",
       "5    0.060189  0.036929  0.013542  0.000000  0.000000  0.000000  0.000000   \n",
       "6   -0.012605 -0.010988 -0.038334 -0.001994  0.000725 -0.002226  0.003685   \n",
       "..        ...       ...       ...       ...       ...       ...       ...   \n",
       "728  0.010250 -0.108873  0.001537 -0.009132 -0.000794 -0.013315  0.004474   \n",
       "729  0.054034 -0.041337  0.027475 -0.012237 -0.017740 -0.008527  0.004642   \n",
       "730  0.005574  0.037851 -0.018381  0.009440  0.004745 -0.007703  0.006222   \n",
       "731  0.012842  0.080047 -0.010078  0.000000  0.000000  0.000000  0.000000   \n",
       "732  0.093726 -0.066496  0.060473  0.000000  0.000000  0.000000  0.000000   \n",
       "\n",
       "          WMT        KR       JPM       BAC      HSBC  \n",
       "2   -0.005142  0.001832 -0.022153 -0.016026 -0.011008  \n",
       "3    0.006246  0.011335  0.036865  0.041531  0.029186  \n",
       "4    0.000000  0.000000  0.000000  0.000000  0.000000  \n",
       "5    0.000000  0.000000  0.000000  0.000000  0.000000  \n",
       "6    0.011772  0.009400  0.000695 -0.000782 -0.013458  \n",
       "..        ...       ...       ...       ...       ...  \n",
       "728 -0.006335  0.002230 -0.002633 -0.003983 -0.001161  \n",
       "729 -0.000832  0.002861  0.002800 -0.001000  0.004648  \n",
       "730 -0.000208  0.006656  0.013641  0.011007 -0.001157  \n",
       "731  0.000000  0.000000  0.000000  0.000000  0.000000  \n",
       "732  0.000000  0.000000  0.000000  0.000000  0.000000  \n",
       "\n",
       "[731 rows x 12 columns]"
      ]
     },
     "execution_count": 10,
     "metadata": {},
     "output_type": "execute_result"
    }
   ],
   "source": [
    "returns = portfolio.pct_change().dropna()\n",
    "returns"
   ]
  },
  {
   "cell_type": "markdown",
   "metadata": {},
   "source": [
    "## W1-Wn\n",
    "Στη πρώτη μέθοδο χρειάστεικε η εύρεση του Αποτελεσματικού Συνόρου των χαρτοφυλλακίων ,με τη παρούσα μέθοδο θα βρούμε τα ποσοστά (w) που πρέπει να επενδυθούν με την χρήση του αλγορίθμου optimize και στη συνέχεια τα εκτυπώνουμε."
   ]
  },
  {
   "cell_type": "code",
   "execution_count": 11,
   "metadata": {},
   "outputs": [
    {
     "data": {
      "text/plain": [
       "OrderedDict([('AAPL', 0.07068989527822178),\n",
       "             ('BAC', 0.06920526586235945),\n",
       "             ('BTC-USD', 0.017327142092896715),\n",
       "             ('COST', 0.14550697916508787),\n",
       "             ('ETH-USD', 0.011406401678718817),\n",
       "             ('FB', 0.04087932492805997),\n",
       "             ('GOOGL', 0.05758011798330394),\n",
       "             ('HSBC', 0.1289301135575259),\n",
       "             ('JPM', 0.07641190343195456),\n",
       "             ('KR', 0.23101817167449268),\n",
       "             ('WMT', 0.13413299595399847),\n",
       "             ('XRP-USD', 0.016911688393379896)])"
      ]
     },
     "execution_count": 11,
     "metadata": {},
     "output_type": "execute_result"
    }
   ],
   "source": [
    "hrp = HRPOpt(returns)\n",
    "hrp_weights = hrp.optimize()\n",
    "hrp_weights"
   ]
  },
  {
   "cell_type": "markdown",
   "metadata": {},
   "source": [
    "## 2.1 Aπόδοση του χαρτοφυλλακίου (Performance)\n",
    "Αποθηκεύουμε στη \"hrp_exp_annual_ret\" τις αναμενόμενες ετήσιες επιστροφές για κάθε επενδυτή με αυτό το χαρτοφυλλάκιο, ομοίως στη \"hrp_annual_volatility\" τη ετήσια μεταβλητότητα - όγκο των μετοχών που περιέχει το χαρτοφυλλακιό μας και τέλος για την ευρεση του Sharpe Ratio αλλα και τον υπολογισμό του ,το αποθηκεύουμε στο \"hrp_sharpe_r\".Εκτελόντας αυτή τη γραμμή κώδικα θα μας επιστρέψει τα αποτελέσματα που ζητήσαμε και ξανάεκτυπώνουμε τα απαιτούμενα weights ξανά για λόγους υπενθύμισης."
   ]
  },
  {
   "cell_type": "code",
   "execution_count": 12,
   "metadata": {},
   "outputs": [
    {
     "name": "stdout",
     "output_type": "stream",
     "text": [
      "Expected annual return: 16.4%\n",
      "Annual volatility: 17.9%\n",
      "Sharpe Ratio: 0.81\n",
      "{'AAPL': 0.07068989527822178, 'BAC': 0.06920526586235945, 'BTC-USD': 0.017327142092896715, 'COST': 0.14550697916508787, 'ETH-USD': 0.011406401678718817, 'FB': 0.04087932492805997, 'GOOGL': 0.05758011798330394, 'HSBC': 0.1289301135575259, 'JPM': 0.07641190343195456, 'KR': 0.23101817167449268, 'WMT': 0.13413299595399847, 'XRP-USD': 0.016911688393379896}\n"
     ]
    }
   ],
   "source": [
    "hrp_exp_annual_ret, hrp_annual_volatility, hrp_sharpe_r = hrp.portfolio_performance(verbose=True)\n",
    "print(dict(hrp_weights))"
   ]
  },
  {
   "cell_type": "markdown",
   "metadata": {},
   "source": [
    "## 2.2 Add Funds (How many stocks (n) according to the Funds)\n",
    "Χωρίς να χρησιμοποιήσουμε τις τρέχουσες τιμές όπως στη πρώτη μέθοδο ,μπρορούμε να βρούμε τα χρήματα (σε δολάρια) που πρέπει να επενδύσουμε με γνώμονα οτι ο επενδυτής έχει στη κατοχή του το ποσό των 100.000$. Για να πραγματοποιηθεί αυτό φτιάχνουμε μια μεταβλητή allocation που στη συνέχεια την εκτυπώνουμε  ,δηλαδή διανομή των χρημάτων ως που να είναι αποτελεσματική και κερδοφόρα η τοποθετησή τους σε ενα αξιόγραφο του χαρτοφυλλακίου και στο τέλος εκτυπώνει τα υπολοιπόμενα λεφτά (leftover) του επενδυτή που παρέμηναν εκτός λόγω του οτι δεν απαιτούνται για τη δημιουργία αποτελεσματικού χαρτοφυλλακίου."
   ]
  },
  {
   "cell_type": "code",
   "execution_count": 13,
   "metadata": {},
   "outputs": [
    {
     "name": "stdout",
     "output_type": "stream",
     "text": [
      "Discrete allocation (HRP): {'KR': 727, 'COST': 39, 'WMT': 93, 'HSBC': 497, 'JPM': 60, 'AAPL': 53, 'BAC': 228, 'GOOGL': 4, 'FB': 15, 'XRP-USD': 7629, 'ETH-USD': 2}\n",
      "Funds remaining (HRP): $17.35\n"
     ]
    }
   ],
   "source": [
    "da_hrp = DiscreteAllocation(hrp_weights, latest_prices, total_portfolio_value=PORTFOLIO_CAPITAL)\n",
    "\n",
    "allocation, leftover = da_hrp.greedy_portfolio()\n",
    "print(\"Discrete allocation (HRP):\", allocation)\n",
    "print(\"Funds remaining (HRP): ${:.2f}\".format(leftover))\n"
   ]
  },
  {
   "cell_type": "markdown",
   "metadata": {},
   "source": [
    "## 3. Μέσος λαμβάνοντας υπόψη το Value at Risk (VaR)\n",
    "Στη τρίτη και τελευταία μέθοδο που θα χρησιμοποιήσουμε πραγματοποιήται μια εκτίμηση στο χειρότερο σενάριο ο επενδυτής να έχει loss(έλλειμα) επενδύοντας σε αυτό το χαρτοφυλλάκιο. Δηλαδή δίνει την απάντηση στο εύλογο ερώτημα με ποία μετοχή θα χάσει τα περισσότερα χρήματα(πσοστά κεφαλαίων). Είναι μια εναλλακτική μορφή της πρώτης μεθόδου (Μεσου-Διακύμανσης). Επιστρέφουμε πάλι τα weights  και τα εκτυπώνουμε μέσω της χρήσης του αλγορίθμου το EfficientCVAR που πέρνει ως όρισμα τα mu και S απο την πρώτη μέθοδο."
   ]
  },
  {
   "cell_type": "code",
   "execution_count": 14,
   "metadata": {},
   "outputs": [
    {
     "name": "stdout",
     "output_type": "stream",
     "text": [
      "{'BTC-USD': 0.0, 'XRP-USD': 0.0, 'ETH-USD': 0.04599, 'GOOGL': 0.01942, 'FB': 0.0, 'AAPL': 0.0, 'COST': 0.0, 'WMT': 0.0, 'KR': 0.0, 'JPM': 0.9346, 'BAC': 0.0, 'HSBC': 0.0}\n"
     ]
    }
   ],
   "source": [
    "S = portfolio.cov()\n",
    "ef_cvar = EfficientCVaR(mu, S)\n",
    "cvar_weights = ef_cvar.min_cvar()\n",
    "\n",
    "cleaned_weights = ef_cvar.clean_weights()\n",
    "print(dict(cleaned_weights))"
   ]
  },
  {
   "cell_type": "markdown",
   "metadata": {},
   "source": [
    "## Aπόδοση Χαρτοφυλλακίου (Performance)\n",
    "Αποθηκεύουμε στη \"cvar_exp_annual_ret\" τις αναμενόμενες ετήσιες επιστροφές για κάθε επενδυτή που κατέχει αυτό το χαρτοφυλλάκιο, ομοίως στη \"cvar_value_at_risk \" τον κίνδυνο που ενέχει το χαρτοφυλλάκιο να μην επιστέψει τις αναμενόμενες επιστροφές στον επενδυτή. Δηλαδή ,μετράει τη φερεγγυότητα του χαρτοφυλλακίου.Με αυτή τη μέθοδο δεν υπολογίζουμε ούτε Sharpe Ratio αλλά ούτε το Volatility και τα αντικαστήσαμε με τον υπολοφισμό του VaR."
   ]
  },
  {
   "cell_type": "code",
   "execution_count": 15,
   "metadata": {},
   "outputs": [
    {
     "name": "stdout",
     "output_type": "stream",
     "text": [
      "Expected annual return: 12.3%\n",
      "Conditional Value at Risk: -46.95%\n"
     ]
    }
   ],
   "source": [
    "cvar_exp_annual_ret, cvar_value_at_risk = ef_cvar.portfolio_performance(verbose=True)"
   ]
  },
  {
   "cell_type": "markdown",
   "metadata": {},
   "source": [
    "## 3.2 Add Funds (How many stocks (n) according to the Funds)\n",
    "Με γνώμονα ότι ο επενδυτής διαθέτει το ποσό των 100.000$ ,πρέπει να διαμοιράσει τα κεφάλαια του όπου κρίνεται αποδοτικό, κερδοφόρο και να επιστρέψει πόσο απο το χρηματικό ποσό θα παραμείνει εκτός επένδυσης. Η συνάρτιση Allocation και leftover θα μας εκτυπώσουν αυτά τα αποτελέσματα.\n",
    "\n"
   ]
  },
  {
   "cell_type": "code",
   "execution_count": 16,
   "metadata": {},
   "outputs": [
    {
     "name": "stdout",
     "output_type": "stream",
     "text": [
      "Discrete allocation (CVAR): {'JPM': 735, 'ETH-USD': 6, 'GOOGL': 1, 'HSBC': 1, 'BAC': 1, 'KR': 1, 'XRP-USD': 1}\n",
      "Funds remaining (CVAR): $115.50\n"
     ]
    }
   ],
   "source": [
    "da_cvar = DiscreteAllocation(cvar_weights, latest_prices, total_portfolio_value=PORTFOLIO_CAPITAL)\n",
    "\n",
    "allocation, leftover = da_cvar.greedy_portfolio()\n",
    "print(\"Discrete allocation (CVAR):\", allocation)\n",
    "print(\"Funds remaining (CVAR): ${:.2f}\".format(leftover))"
   ]
  },
  {
   "cell_type": "markdown",
   "metadata": {},
   "source": [
    "## Real analysis of 2021, using the above methods\n",
    "Παρακάτω δοκιμάζουμε τις τρείς μεθόδους αν πράγματι επιστρέφουν φερέγγυες τιμές. Απο οτι παρατηρούμε η πρώτη μέθοδος δεν είναι ακριβής σε σύγκριση με τις άλλες δύο."
   ]
  },
  {
   "cell_type": "code",
   "execution_count": 17,
   "metadata": {},
   "outputs": [],
   "source": [
    "start = dt.datetime(2021,1,1)\n",
    "end = dt.datetime(2021,12,25)\n",
    "\n"
   ]
  },
  {
   "cell_type": "code",
   "execution_count": 18,
   "metadata": {},
   "outputs": [
    {
     "name": "stdout",
     "output_type": "stream",
     "text": [
      "True returns of 2021 using Mean Variance method: 51.21%\n"
     ]
    }
   ],
   "source": [
    "# weights_dict = dict(cleaned_weights)\n",
    "weights_dict = dict(cleaned_weights_mvo)\n",
    "total_real_profit = 0\n",
    "for ticker in weights_dict:\n",
    "    one_stock = get_stock(ticker).values\n",
    "    start_of_year_price = one_stock[0][0]\n",
    "    end_of_year_price = one_stock[-1][0]\n",
    "    if weights_dict[ticker] == 0:\n",
    "        continue\n",
    "    ratio = (end_of_year_price - start_of_year_price) / start_of_year_price\n",
    "    total_real_profit += ratio * PORTFOLIO_CAPITAL * weights_dict[ticker]\n",
    "\n",
    "final = (total_real_profit+PORTFOLIO_CAPITAL)\n",
    "\n",
    "print(\"True returns of 2021 using Mean Variance method: {:.2f}%\".format((final - PORTFOLIO_CAPITAL)/PORTFOLIO_CAPITAL*100))"
   ]
  },
  {
   "cell_type": "code",
   "execution_count": 19,
   "metadata": {},
   "outputs": [
    {
     "name": "stdout",
     "output_type": "stream",
     "text": [
      "True returns of 2021 using HRP: 40.09%\n"
     ]
    }
   ],
   "source": [
    "\n",
    "# weights_dict = dict(cleaned_weights)\n",
    "weights_dict = dict(hrp_weights)\n",
    "total_real_profit = 0\n",
    "for ticker in weights_dict:\n",
    "    one_stock = get_stock(ticker).values\n",
    "    start_of_year_price = one_stock[0][0]\n",
    "    end_of_year_price = one_stock[-1][0]\n",
    "    if weights_dict[ticker] == 0:\n",
    "        continue\n",
    "    ratio = (end_of_year_price - start_of_year_price) / start_of_year_price\n",
    "    total_real_profit += ratio * PORTFOLIO_CAPITAL * weights_dict[ticker]\n",
    "\n",
    "final = (total_real_profit+PORTFOLIO_CAPITAL)\n",
    "\n",
    "print(\"True returns of 2021 using HRP: {:.2f}%\".format((final - PORTFOLIO_CAPITAL)/PORTFOLIO_CAPITAL*100))\n",
    "    "
   ]
  },
  {
   "cell_type": "code",
   "execution_count": 20,
   "metadata": {},
   "outputs": [
    {
     "name": "stdout",
     "output_type": "stream",
     "text": [
      "True returns of 2021 using cVar: 45.68%\n"
     ]
    }
   ],
   "source": [
    "\n",
    "weights_dict = dict(cleaned_weights)\n",
    "total_real_profit = 0\n",
    "for ticker in weights_dict:\n",
    "    one_stock = get_stock(ticker).values\n",
    "    start_of_year_price = one_stock[0][0]\n",
    "    end_of_year_price = one_stock[-1][0]\n",
    "    if weights_dict[ticker] == 0:\n",
    "        continue\n",
    "    ratio = (end_of_year_price - start_of_year_price) / start_of_year_price\n",
    "    total_real_profit += ratio * PORTFOLIO_CAPITAL * weights_dict[ticker]\n",
    "\n",
    "final = (total_real_profit+PORTFOLIO_CAPITAL)\n",
    "\n",
    "print(\"True returns of 2021 using cVar: {:.2f}%\".format((final - PORTFOLIO_CAPITAL)/PORTFOLIO_CAPITAL*100))"
   ]
  }
 ],
 "metadata": {
  "interpreter": {
   "hash": "627eefc6ddbfc1bcb9991dcd8194ad896750735c8723728e44b7e90c0c1debce"
  },
  "kernelspec": {
   "display_name": "Python 3.9.2 64-bit",
   "language": "python",
   "name": "python3"
  },
  "language_info": {
   "codemirror_mode": {
    "name": "ipython",
    "version": 3
   },
   "file_extension": ".py",
   "mimetype": "text/x-python",
   "name": "python",
   "nbconvert_exporter": "python",
   "pygments_lexer": "ipython3",
   "version": "3.9.10"
  },
  "orig_nbformat": 4
 },
 "nbformat": 4,
 "nbformat_minor": 2
}
